{
  "nbformat": 4,
  "nbformat_minor": 0,
  "metadata": {
    "colab": {
      "name": "92_Intro_to_Regression_Stock_Prediction.ipynb",
      "version": "0.3.2",
      "provenance": [],
      "collapsed_sections": [
        "3cKmWSTZ8uwC",
        "BYr1vtpd8uw4",
        "--UmoqGaCcPz",
        "2iSmXWJnCccA"
      ],
      "include_colab_link": true
    },
    "kernelspec": {
      "name": "python3",
      "display_name": "Python 3"
    },
    "accelerator": "GPU"
  },
  "cells": [
    {
      "cell_type": "markdown",
      "metadata": {
        "id": "view-in-github",
        "colab_type": "text"
      },
      "source": [
        "[View in Colaboratory](https://colab.research.google.com/github/RayleighKim/Coursera_Advanced_Machine_Learning_Specialization/blob/master/92_Intro_to_Regression_Stock_Prediction.ipynb)"
      ]
    },
    {
      "metadata": {
        "id": "cVB9pY-v8uv5",
        "colab_type": "text"
      },
      "cell_type": "markdown",
      "source": [
        "# Intro to Regression 02\n",
        "\n",
        "## Stock Prediction\n",
        "\n",
        "### Your name :     \n",
        "\n",
        "### Kaggle Link for exercise :\n",
        "* [Stock Price trend Prediction dataset](https://www.kaggle.com/aumashe/stock-ew/home) : Historical stock prices of Edwards Lifesciences Corporation (EW) 2000-03-26 ~ 2017-09-09\n",
        "\n",
        "### Real Data for exercise :\n",
        "* [내가 원하는 회사 데이터 다운 받을 곳!](https://finance.yahoo.com/quote/005930.KS/history?p=005930.KS&.tsrc=fin-srch-v1)\n",
        "![how-to](https://github.com/RayleighKim/Example_datasets/blob/master/yahoo_finance.PNG?raw=true)\n",
        "\n",
        "#### 실습목표<br>\n",
        "1. LSTM의 코드 구조를 이해한다.\n",
        "2. Feature Engineering을 통해 성능을 높여본다.\n",
        "3. 실제 관심있는 회사의 주가를 관찰해본다.\n",
        "\n",
        "---------------\n",
        "Rayleigh Kim @ D:plus\n"
      ]
    },
    {
      "metadata": {
        "id": "GVvCef6A8uv6",
        "colab_type": "code",
        "colab": {}
      },
      "cell_type": "code",
      "source": [
        "'''\n",
        "matplolib inline 명령어를 통해서\n",
        "matplot으로 그리는 플롯들을 주피터 노트북 내에서 볼 수 있게 해준다.\n",
        "포맷을 retina로 바꾸면 그래프의 화질이 훨씬 좋아진다.\n",
        "'''\n",
        "%matplotlib inline\n",
        "%config InlineBackend.figure_format = 'retina'\n",
        "\n",
        "'''\n",
        "라이브러리들을 불러오자.\n",
        "'''\n",
        "import numpy as np\n",
        "import pandas as pd\n",
        "import matplotlib.pyplot as plt\n",
        "import tensorflow as tf\n",
        "import keras\n",
        "\n",
        "from keras.models import Sequential\n",
        "from keras.layers import Dense\n",
        "from keras.callbacks import EarlyStopping\n",
        "from keras import backend as k\n",
        "\n",
        "from sklearn.metrics import mean_squared_error, r2_score\n"
      ],
      "execution_count": 0,
      "outputs": []
    },
    {
      "metadata": {
        "id": "3cKmWSTZ8uwC",
        "colab_type": "text"
      },
      "cell_type": "markdown",
      "source": [
        "## Load and Prepare the data"
      ]
    },
    {
      "metadata": {
        "id": "Vqr7zY5r8uwC",
        "colab_type": "code",
        "colab": {}
      },
      "cell_type": "code",
      "source": [
        "data_path = 'https://raw.githubusercontent.com/RayleighKim/Example_datasets/master/Stock_Edwards_Lifesciences_corporation.csv'\n",
        "stock = pd.read_csv(data_path)"
      ],
      "execution_count": 0,
      "outputs": []
    },
    {
      "metadata": {
        "id": "HO_XbJ-yVANm",
        "colab_type": "code",
        "colab": {}
      },
      "cell_type": "code",
      "source": [
        "# '''\n",
        "# Stock_Edwards_Lifesciences_corportation.csv 를 업로드 하자.\n",
        "# '''\n",
        "# from google.colab import files\n",
        "# files.upload"
      ],
      "execution_count": 0,
      "outputs": []
    },
    {
      "metadata": {
        "id": "Kkf5PfKbVQhM",
        "colab_type": "code",
        "colab": {}
      },
      "cell_type": "code",
      "source": [
        "# stock = pd.read_csv('Stock_Edwards_Lifesciences_corporation.csv')"
      ],
      "execution_count": 0,
      "outputs": []
    },
    {
      "metadata": {
        "id": "Wzs1nS348uwE",
        "colab_type": "code",
        "colab": {}
      },
      "cell_type": "code",
      "source": [
        "print(stock.shape)\n",
        "stock.head()"
      ],
      "execution_count": 0,
      "outputs": []
    },
    {
      "metadata": {
        "id": "_lQDBhv-8uwj",
        "colab_type": "code",
        "colab": {}
      },
      "cell_type": "code",
      "source": [
        "stock[:240].plot(x='Date', y='Close')"
      ],
      "execution_count": 0,
      "outputs": []
    },
    {
      "metadata": {
        "id": "xN4Pa1qp8uwm",
        "colab_type": "text"
      },
      "cell_type": "markdown",
      "source": [
        "### Drop columns\n",
        "\n",
        "* 사용하지 않을 변수들은 제거하자.\n",
        "* 컬럼을 사용하기 좋은 순서대로 바꾸자.\n",
        "\n"
      ]
    },
    {
      "metadata": {
        "id": "8lDydft58uwn",
        "colab_type": "code",
        "colab": {}
      },
      "cell_type": "code",
      "source": [
        "fields_to_drop = ['Date', 'Adj_Close']\n",
        "data = stock.drop(fields_to_drop, axis=1)\n",
        "data = data[['Open', 'High', 'Low', 'Volume','Close']]\n",
        "\n",
        "data.head()"
      ],
      "execution_count": 0,
      "outputs": []
    },
    {
      "metadata": {
        "id": "bFdWsejU8uwp",
        "colab_type": "text"
      },
      "cell_type": "markdown",
      "source": [
        "### Scaling target variables\n",
        "\n",
        "mean shifting & Scaling : 평균을 0으로, 표준편차를 1로<br>\n",
        "사실 scikit-learn에서 한방에 하는 방법도 있다.<br>\n",
        "[Missing-Value처리](http://scikit-learn.org/stable/modules/generated/sklearn.preprocessing.Imputer.html), [StandardScaling](http://scikit-learn.org/stable/modules/generated/sklearn.preprocessing.StandardScaler.html#sklearn.preprocessing.StandardScaler)<br>\n",
        "연습삼아 직접 해보자!\n",
        "\n"
      ]
    },
    {
      "metadata": {
        "id": "9npdTrWj8uwr",
        "colab_type": "code",
        "colab": {}
      },
      "cell_type": "code",
      "source": [
        "quant_features = list(data)\n",
        "# Store scalings in a dictionary so we can convert back later\n",
        "scaled_features = {}\n",
        "for each in quant_features:\n",
        "    mean, std = data[each].mean(), data[each].std()\n",
        "    scaled_features[each] = [mean, std]\n",
        "    data.loc[:, each] = (data[each] - mean)/std"
      ],
      "execution_count": 0,
      "outputs": []
    },
    {
      "metadata": {
        "id": "NYgbzL8F8uwt",
        "colab_type": "code",
        "colab": {}
      },
      "cell_type": "code",
      "source": [
        "'''\n",
        "위에서 쓰인 Dictionary 잠깐 짚어보기.\n",
        "Dictionary의 각각의 원소는 key : value 쌍으로 되어 있다.\n",
        "'''\n",
        "\n",
        "scaled_features"
      ],
      "execution_count": 0,
      "outputs": []
    },
    {
      "metadata": {
        "id": "zbwpz0ek8uw2",
        "colab_type": "text"
      },
      "cell_type": "markdown",
      "source": [
        "### Pandas Dataframe to Numpy array\n",
        "\n"
      ]
    },
    {
      "metadata": {
        "id": "CurBFRz88uw2",
        "colab_type": "code",
        "colab": {}
      },
      "cell_type": "code",
      "source": [
        "xy = data.values\n",
        "print(xy[:5])"
      ],
      "execution_count": 0,
      "outputs": []
    },
    {
      "metadata": {
        "id": "BYr1vtpd8uw4",
        "colab_type": "text"
      },
      "cell_type": "markdown",
      "source": [
        "## Wrong Case I : Linear Regression\n",
        "\n",
        "y_data가 어떻게 생성되었는지 잘 보라."
      ]
    },
    {
      "metadata": {
        "id": "7EU_X9X5Cbn5",
        "colab_type": "code",
        "colab": {}
      },
      "cell_type": "code",
      "source": [
        "k.clear_session()\n",
        "### Split\n",
        "x_data = xy[:, 0:-1]\n",
        "y_data = xy[:, [-1]]\n",
        "\n",
        "x_train, x_valid, x_test = x_data[:-30], x_data[-30:-10], x_data[-10:]\n",
        "y_train, y_valid, y_test = y_data[:-30], y_data[-30:-10], y_data[-10:]\n",
        "\n",
        "### modeling\n",
        "model = Sequential()\n",
        "model.add(Dense(units =   1, input_dim=x_data.shape[1]))\n",
        "model.compile(loss='mse', optimizer = 'adam', metrics = ['mse'] )\n",
        "\n",
        "### Training\n",
        "\n",
        "\n",
        "model.fit(x_train, y_train, batch_size = 512,\n",
        "         epochs = 1000, validation_data=(x_valid, y_valid),\n",
        "          callbacks=[EarlyStopping(monitor='val_loss', patience=15)]\n",
        "         )\n",
        "\n",
        "### evaluate\n",
        "\n",
        "pred_train = model.predict(x_train)\n",
        "pred_valid = model.predict(x_valid)\n",
        "pred_test = model.predict(x_test)\n",
        "\n",
        "print(\"Mean Squared Error on Training set : {0:.5f}\".format(mean_squared_error(y_train, pred_train)  ))\n",
        "print(\"Mean Squared Error on Validation set : {0:.5f}\".format(mean_squared_error(y_valid, pred_valid)  ))\n",
        "print(\"Mean Squared Error on Test set : {0:.5f}\".format(mean_squared_error(y_test, pred_test)  ))\n",
        "\n",
        "print(\"R-squared Score on Training set : {0:.5f}\".format(r2_score(y_train, pred_train)))\n",
        "print(\"R-squared Score on Validation set : {0:.5f}\".format(r2_score(y_valid, pred_valid)))\n",
        "print(\"R-squared Score on Test set : {0:.5f}\".format(r2_score(y_test, pred_test)))\n",
        "\n",
        "fig, ax = plt.subplots(figsize=(10,5))\n",
        "\n",
        "# 예측값도 Scaling 되어 있으므로 그것을 원래대로 되돌려주는 과정\n",
        "mean, std = scaled_features['Close']\n",
        "\n",
        "ax.plot((pred_test)*std+mean, label = 'Prediction')\n",
        "ax.plot((y_test)*std+mean, label = 'Real')\n",
        "ax.set_xlim(right = len(y_test))\n",
        "ax.legend()\n"
      ],
      "execution_count": 0,
      "outputs": []
    },
    {
      "metadata": {
        "id": "--UmoqGaCcPz",
        "colab_type": "text"
      },
      "cell_type": "markdown",
      "source": [
        "## Wrong Case II : Linear Regression\n",
        "\n",
        "1. 앞의 case와 비교하여 y_data는 어떻게 생성되었는가?\n",
        "2. 무엇이 잘못되었는가?"
      ]
    },
    {
      "metadata": {
        "id": "a8WejthzCiyK",
        "colab_type": "code",
        "colab": {}
      },
      "cell_type": "code",
      "source": [
        "k.clear_session()\n",
        "\n",
        "### Split to predict tomorrow\n",
        "x_data = xy[:-1]\n",
        "y_data = xy[1:, [-1]]\n",
        "\n",
        "x_train, x_valid, x_test = x_data[:-30], x_data[-30:-10], x_data[-10:]\n",
        "y_train, y_valid, y_test = y_data[:-30], y_data[-30:-10], y_data[-10:]\n",
        "\n",
        "### modeling\n",
        "model = Sequential()\n",
        "model.add(Dense(units =   1, input_dim=x_data.shape[1]))\n",
        "model.compile(loss='mse', optimizer = 'adam', metrics = ['mse'] )\n",
        "\n",
        "### Training\n",
        "\n",
        "\n",
        "model.fit(x_train, y_train, batch_size = 512,\n",
        "         epochs = 1000, validation_data=(x_valid, y_valid),\n",
        "          callbacks=[EarlyStopping(monitor='val_loss', patience=15)]\n",
        "         )\n",
        "\n",
        "### evaluate\n",
        "\n",
        "pred_train = model.predict(x_train)\n",
        "pred_valid = model.predict(x_valid)\n",
        "pred_test = model.predict(x_test)\n",
        "\n",
        "print(\"Mean Squared Error on Training set : {0:.5f}\".format(mean_squared_error(y_train, pred_train)  ))\n",
        "print(\"Mean Squared Error on Validation set : {0:.5f}\".format(mean_squared_error(y_valid, pred_valid)  ))\n",
        "print(\"Mean Squared Error on Test set : {0:.5f}\".format(mean_squared_error(y_test, pred_test)  ))\n",
        "\n",
        "print(\"R-squared Score on Training set : {0:.5f}\".format(r2_score(y_train, pred_train)))\n",
        "print(\"R-squared Score on Validation set : {0:.5f}\".format(r2_score(y_valid, pred_valid)))\n",
        "print(\"R-squared Score on Test set : {0:.5f}\".format(r2_score(y_test, pred_test)))\n",
        "\n",
        "fig, ax = plt.subplots(figsize=(10,5))\n",
        "\n",
        "# 예측값도 Scaling 되어 있으므로 그것을 원래대로 되돌려주는 과정\n",
        "mean, std = scaled_features['Close']\n",
        "\n",
        "ax.plot((pred_test)*std+mean, label = 'Prediction')\n",
        "ax.plot((y_test)*std+mean, label = 'Real')\n",
        "ax.set_xlim(right = len(y_test))\n",
        "ax.legend()\n"
      ],
      "execution_count": 0,
      "outputs": []
    },
    {
      "metadata": {
        "id": "2iSmXWJnCccA",
        "colab_type": "text"
      },
      "cell_type": "markdown",
      "source": [
        "## Just Not Bad Case : LSTM"
      ]
    },
    {
      "metadata": {
        "id": "yhGn4zc2ESzb",
        "colab_type": "code",
        "colab": {}
      },
      "cell_type": "code",
      "source": [
        "from keras.layers import Activation\n",
        "from keras.layers import LSTM\n",
        "from keras.layers import Flatten"
      ],
      "execution_count": 0,
      "outputs": []
    },
    {
      "metadata": {
        "id": "Zq5qhogLEJji",
        "colab_type": "code",
        "colab": {}
      },
      "cell_type": "code",
      "source": [
        "k.clear_session()\n",
        "\n",
        "### Hyper-parameters\n",
        "\n",
        "timesteps = seq_len = 7\n",
        "data_dim = 5\n",
        "\n",
        "\n",
        "### Split to predict tomorrow\n",
        "x_data = xy\n",
        "y_data = xy[1:, [-1]]\n",
        "\n",
        "x_data_seq = []\n",
        "y_data_seq = []\n",
        "\n",
        "for i in range(0, len(y_data)-seq_len) :\n",
        "    x_data_seq.append(x_data[i:i+seq_len])\n",
        "    y_data_seq.append(y_data[i+seq_len])\n",
        "\n",
        "x_data_seq = np.array(x_data_seq)\n",
        "y_data_seq = np.array(y_data_seq)\n",
        "    \n",
        "x_train, x_valid, x_test = x_data_seq[:-30], x_data_seq[-30:-10], x_data_seq[-10:]\n",
        "y_train, y_valid, y_test = y_data_seq[:-30], y_data_seq[-30:-10], y_data_seq[-10:]\n",
        "\n",
        "### modeling\n",
        "model = Sequential()\n",
        "model.add(LSTM(8, input_shape = (seq_len, data_dim),return_sequences=True))\n",
        "model.add(LSTM(4, return_sequences=False))\n",
        "# model.add(Flatten())\n",
        "model.add(Dense(1))\n",
        "model.add(Activation(\"linear\"))\n",
        "\n",
        "model.compile(loss='mse', optimizer = 'adam')\n",
        "model.summary()\n",
        "### Training\n",
        "\n",
        "\n",
        "model.fit(x_train, y_train, batch_size = 512,\n",
        "         epochs = 1000, validation_data=(x_valid, y_valid),\n",
        "          callbacks=[EarlyStopping(monitor='val_loss', patience=15)]\n",
        "         )\n",
        "\n",
        "### evaluate\n",
        "\n",
        "pred_train = model.predict(x_train)\n",
        "pred_valid = model.predict(x_valid)\n",
        "pred_test = model.predict(x_test)\n",
        "\n",
        "print(\"Mean Squared Error on Training set : {0:.5f}\".format(mean_squared_error(y_train, pred_train)  ))\n",
        "print(\"Mean Squared Error on Validation set : {0:.5f}\".format(mean_squared_error(y_valid, pred_valid)  ))\n",
        "print(\"Mean Squared Error on Test set : {0:.5f}\".format(mean_squared_error(y_test, pred_test)  ))\n",
        "\n",
        "print(\"R-squared Score on Training set : {0:.5f}\".format(r2_score(y_train, pred_train)))\n",
        "print(\"R-squared Score on Validation set : {0:.5f}\".format(r2_score(y_valid, pred_valid)))\n",
        "print(\"R-squared Score on Test set : {0:.5f}\".format(r2_score(y_test, pred_test)))\n",
        "\n",
        "fig, ax = plt.subplots(figsize=(10,5))\n",
        "\n",
        "# 예측값도 Scaling 되어 있으므로 그것을 원래대로 되돌려주는 과정\n",
        "mean, std = scaled_features['Close']\n",
        "\n",
        "ax.plot((pred_test)*std+mean, label = 'Prediction')\n",
        "ax.plot((y_test)*std+mean, label = 'Real')\n",
        "ax.set_xlim(right = len(y_test))\n",
        "ax.legend()\n"
      ],
      "execution_count": 0,
      "outputs": []
    },
    {
      "metadata": {
        "id": "sCwXpZt8GRt7",
        "colab_type": "code",
        "colab": {}
      },
      "cell_type": "code",
      "source": [
        ""
      ],
      "execution_count": 0,
      "outputs": []
    }
  ]
}