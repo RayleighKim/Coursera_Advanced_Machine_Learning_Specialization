{
  "nbformat": 4,
  "nbformat_minor": 0,
  "metadata": {
    "colab": {
      "name": "w51_Quiz_RNN&Backpropagation.ipynb",
      "version": "0.3.2",
      "provenance": [],
      "collapsed_sections": [],
      "include_colab_link": true
    },
    "kernelspec": {
      "name": "python3",
      "display_name": "Python 3"
    }
  },
  "cells": [
    {
      "cell_type": "markdown",
      "metadata": {
        "id": "view-in-github",
        "colab_type": "text"
      },
      "source": [
        "[View in Colaboratory](https://colab.research.google.com/github/RayleighKim/Coursera_Advanced_Machine_Learning_Specialization/blob/master/01_Introduction_To_DeepLearning/w51_Quiz_RNN&Backpropagation.ipynb)"
      ]
    },
    {
      "metadata": {
        "id": "M5urgouueCxS",
        "colab_type": "text"
      },
      "cell_type": "markdown",
      "source": [
        "# Quiz : RNN and Backpropagation\n",
        "---\n",
        "Rayleigh Kim @ dplus\n",
        "\n",
        "email1 : rayleigh@dplus.company<br>\n",
        "email2 : wood.rayleigh@gmail.com\n",
        "\n",
        "\n",
        "\n"
      ]
    },
    {
      "metadata": {
        "id": "GdSYY0wXfDYc",
        "colab_type": "text"
      },
      "cell_type": "markdown",
      "source": [
        "## Q1. Consider a task with input sequences of fixed length. Could RNN architecture still be useful for such task? :\n",
        "\n",
        "* **Yes**\n",
        "* No"
      ]
    },
    {
      "metadata": {
        "id": "NNzc6I1mg2eg",
        "colab_type": "text"
      },
      "cell_type": "markdown",
      "source": [
        "## Q2. Consider an RNN for a language generation task. $\\hat y_t $ is an output of this RNN at each time step, $L$ is a length of the input sequence, $L$ is a number of words in the vocabulary. Choose correct statements about $\\hat y_t$ \n",
        "\n",
        "\n",
        "* $\\hat y_t$ is a vector of length $N$  : **True, length $N$ of vocabulary**\n",
        "\n",
        "* variations length $(L-t)$ or $L \\times N$\n",
        "\n",
        "* Each element of $\\hat y_t$ is a number from 0 to 1 **True, a Distribution.**\n",
        "\n",
        "* variations "
      ]
    },
    {
      "metadata": {
        "id": "mldNyHxdfisT",
        "colab_type": "text"
      },
      "cell_type": "markdown",
      "source": [
        "## Q3. Consider the RNN from the lecture:\n",
        "\n",
        "$h_t = f_t(Vx_t +Wh_{t-1} +b_h)$<br>\n",
        "$\\hat y_t = f_y (Uh_t + b_y) $\n",
        "\n",
        "![image from coursera](https://d3c33hcgiwev3.cloudfront.net/imageAssetProxy.v1/77YTlZvmEeeHrwpWBTEPxg_cd2d0ddc90e794ffa7548a3a2221d5d4_Screen-Shot-2017-09-17-at-23.24.34.png?expiry=1533427200000&hmac=-TaZ-OGYnCNnrW-_2865zV6uemt13gxxa_q_T5WLtgw)\n",
        "\n",
        "Calculate the gradient of the loss $L$ with respect to the bias vector $ b_y \\cdot {\\partial L \\over  \\partial b_y}$\n",
        "\n",
        "<br>\n",
        "answer : $ {\\partial L \\over \\partial b_y } = \\sum ^T _{t=0} [{\\partial L_t \\over \\partial\\hat y_t  }{\\partial\\hat y_t \\over \\partial b_y}  ] $"
      ]
    },
    {
      "metadata": {
        "id": "CsW6lqlcffbJ",
        "colab_type": "text"
      },
      "cell_type": "markdown",
      "source": [
        "## Q4. Consider the RNN network from the previous Question. Calculate the gradient of the loss $L$ with respect to the bias vector $b_h \\cdot {\\partial L \\over \\partial b_h}=? $\n",
        "\n",
        "\n",
        "answer : $b_h \\cdot {\\partial L \\over \\partial b_h}= \\sum ^T _{t=0} [{\\partial L_t \\over \\partial\\hat y_t}{\\partial\\hat y_t \\over \\partial h_t} \\sum ^t _{k=0}(\\prod ^t _{i=k+1} {\\partial h_i \\over \\partial h_{i-1}}  ){\\partial h_k \\over \\partial b_h}   ] $\n"
      ]
    },
    {
      "metadata": {
        "id": "KlU7djgsymxj",
        "colab_type": "code",
        "colab": {}
      },
      "cell_type": "code",
      "source": [
        ""
      ],
      "execution_count": 0,
      "outputs": []
    }
  ]
}