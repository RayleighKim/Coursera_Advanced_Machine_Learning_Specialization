{
  "nbformat": 4,
  "nbformat_minor": 0,
  "metadata": {
    "colab": {
      "name": "w25_PA_keras_my1stNN.ipynb",
      "version": "0.3.2",
      "provenance": [],
      "collapsed_sections": [],
      "include_colab_link": true
    },
    "kernelspec": {
      "display_name": "Python 3",
      "language": "python",
      "name": "python3"
    },
    "accelerator": "GPU"
  },
  "cells": [
    {
      "cell_type": "markdown",
      "metadata": {
        "id": "view-in-github",
        "colab_type": "text"
      },
      "source": [
        "[View in Colaboratory](https://colab.research.google.com/github/RayleighKim/Coursera_Advanced_Machine_Learning_Specialization/blob/master/01_Introduction_To_DeepLearning/w25_PA_keras_my1stNN.ipynb)"
      ]
    },
    {
      "metadata": {
        "id": "7kCzio24wyF0",
        "colab_type": "text"
      },
      "cell_type": "markdown",
      "source": [
        "# Getting deeper with Keras\n",
        "* Tensorflow is a powerful and flexible tool, but coding large neural architectures with it is tedious.\n",
        "* There are plenty of deep learning toolkits that work on top of it like Slim, TFLearn, Sonnet, Keras.\n",
        "* Choice is matter of taste and particular task\n",
        "* We'll be using Keras\n",
        "\n",
        "----------------------------------------\n",
        "Rayleigh Kim @ D:plus\n",
        "\n",
        "email1 : rayleigh@dplus.company<br>\n",
        "email2 : wood.rayleigh@gmail.com\n",
        "\n",
        "I modified this notebook to use GoogleColaboratory on GoogleDrive"
      ]
    },
    {
      "metadata": {
        "id": "pS65CNWsxHJf",
        "colab_type": "code",
        "colab": {
          "base_uri": "https://localhost:8080/",
          "height": 125
        },
        "outputId": "80a29228-070e-4c9f-ed39-94b35c800c99"
      },
      "cell_type": "code",
      "source": [
        "!git clone https://github.com/hse-aml/intro-to-dl.git"
      ],
      "execution_count": 1,
      "outputs": [
        {
          "output_type": "stream",
          "text": [
            "Cloning into 'intro-to-dl'...\n",
            "remote: Counting objects: 423, done.\u001b[K\n",
            "remote: Compressing objects: 100% (38/38), done.\u001b[K\n",
            "remote: Total 423 (delta 14), reused 29 (delta 8), pack-reused 377\u001b[K\n",
            "Receiving objects: 100% (423/423), 4.37 MiB | 3.80 MiB/s, done.\n",
            "Resolving deltas: 100% (227/227), done.\n"
          ],
          "name": "stdout"
        }
      ]
    },
    {
      "metadata": {
        "id": "1mfnGEvhxLwn",
        "colab_type": "code",
        "colab": {
          "base_uri": "https://localhost:8080/",
          "height": 35
        },
        "outputId": "8994696f-5268-4de2-969e-06d8701a9f1e"
      },
      "cell_type": "code",
      "source": [
        "# change working directory where the original file is\n",
        "cd intro-to-dl/week2"
      ],
      "execution_count": 1,
      "outputs": [
        {
          "output_type": "stream",
          "text": [
            "/content/intro-to-dl/week2\n"
          ],
          "name": "stdout"
        }
      ]
    },
    {
      "metadata": {
        "id": "q0ahC-NWwyF1",
        "colab_type": "code",
        "colab": {}
      },
      "cell_type": "code",
      "source": [
        "import sys\n",
        "sys.path.append(\"..\")\n",
        "import grading"
      ],
      "execution_count": 0,
      "outputs": []
    },
    {
      "metadata": {
        "id": "be6RiFTGwyF4",
        "colab_type": "code",
        "colab": {
          "base_uri": "https://localhost:8080/",
          "height": 53
        },
        "outputId": "96b2cb78-c5e2-4ae0-be81-5f6a7728e76e"
      },
      "cell_type": "code",
      "source": [
        "# use preloaded keras datasets and models\n",
        "! mkdir -p ~/.keras/datasets\n",
        "! mkdir -p ~/.keras/models\n",
        "! ln -s $(realpath ../readonly/keras/datasets/*) ~/.keras/datasets/\n",
        "! ln -s $(realpath ../readonly/keras/models/*) ~/.keras/models/"
      ],
      "execution_count": 3,
      "outputs": [
        {
          "output_type": "stream",
          "text": [
            "realpath: '../readonly/keras/datasets/*': No such file or directory\n",
            "realpath: '../readonly/keras/models/*': No such file or directory\n"
          ],
          "name": "stdout"
        }
      ]
    },
    {
      "metadata": {
        "id": "Rsj0nQPgwyF8",
        "colab_type": "code",
        "colab": {
          "base_uri": "https://localhost:8080/",
          "height": 35
        },
        "outputId": "b360e0d6-2950-4cf6-a6d3-4b9eb68572c6"
      },
      "cell_type": "code",
      "source": [
        "import numpy as np\n",
        "from preprocessed_mnist import load_dataset\n",
        "import keras\n",
        "X_train, y_train, X_val, y_val, X_test, y_test = load_dataset()\n",
        "y_train,y_val,y_test = map(keras.utils.np_utils.to_categorical,[y_train,y_val,y_test])"
      ],
      "execution_count": 4,
      "outputs": [
        {
          "output_type": "stream",
          "text": [
            "Using TensorFlow backend.\n"
          ],
          "name": "stderr"
        }
      ]
    },
    {
      "metadata": {
        "id": "HzYxJMxTwyF_",
        "colab_type": "code",
        "colab": {
          "base_uri": "https://localhost:8080/",
          "height": 265
        },
        "outputId": "b3f9fd71-15fb-4416-ffb6-07db71660fff"
      },
      "cell_type": "code",
      "source": [
        "import matplotlib.pyplot as plt\n",
        "%matplotlib inline\n",
        "plt.imshow(X_train[0]);"
      ],
      "execution_count": 5,
      "outputs": [
        {
          "output_type": "display_data",
          "data": {
            "image/png": "[encoded data removed]",
            "text/plain": [
              "<matplotlib.figure.Figure at 0x7f2dfbc60240>"
            ]
          },
          "metadata": {
            "tags": []
          }
        }
      ]
    },
    {
      "metadata": {
        "id": "ljmre9oOwyGB",
        "colab_type": "text"
      },
      "cell_type": "markdown",
      "source": [
        "## The pretty keras\n",
        "-----------------------------------------------------------\n",
        "\n",
        "I didn't do anything, but my submission is passed.....\n",
        "\n",
        "so..... I just do....more.. this part"
      ]
    },
    {
      "metadata": {
        "id": "gnUuC7arwyGC",
        "colab_type": "code",
        "colab": {}
      },
      "cell_type": "code",
      "source": [
        "import tensorflow as tf\n",
        "s = tf.InteractiveSession()"
      ],
      "execution_count": 0,
      "outputs": []
    },
    {
      "metadata": {
        "id": "LoxU9puXwyGE",
        "colab_type": "code",
        "colab": {}
      },
      "cell_type": "code",
      "source": [
        "import keras\n",
        "from keras.models import Sequential\n",
        "import keras.layers as ll\n",
        "\n",
        "model = Sequential(name=\"mlp\")\n",
        "\n",
        "model.add(ll.InputLayer([28, 28]))\n",
        "\n",
        "model.add(ll.Flatten())\n",
        "\n",
        "# network body\n",
        "model.add(ll.Dense(512))\n",
        "model.add(ll.Activation('elu'))\n",
        "\n",
        "model.add(ll.Dense(512))\n",
        "model.add(ll.Activation('elu'))\n",
        "\n",
        "model.add(ll.Dense(512))\n",
        "model.add(ll.Activation('elu'))\n",
        "\n",
        "model.add(ll.Dense(256))\n",
        "model.add(ll.Activation('elu'))\n",
        "\n",
        "# output layer: 10 neurons for each class with softmax\n",
        "model.add(ll.Dense(10, activation='softmax'))\n",
        "\n",
        "# categorical_crossentropy is your good old crossentropy\n",
        "# but applied for one-hot-encoded vectors\n",
        "model.compile(\"adam\", \"categorical_crossentropy\", metrics=[\"accuracy\"])"
      ],
      "execution_count": 0,
      "outputs": []
    },
    {
      "metadata": {
        "id": "YMy4OfubwyGG",
        "colab_type": "code",
        "colab": {
          "base_uri": "https://localhost:8080/",
          "height": 539
        },
        "outputId": "c081925f-189b-4373-e052-cad61380e294"
      },
      "cell_type": "code",
      "source": [
        "model.summary()"
      ],
      "execution_count": 31,
      "outputs": [
        {
          "output_type": "stream",
          "text": [
            "_________________________________________________________________\n",
            "Layer (type)                 Output Shape              Param #   \n",
            "=================================================================\n",
            "input_4 (InputLayer)         (None, 28, 28)            0         \n",
            "_________________________________________________________________\n",
            "flatten_4 (Flatten)          (None, 784)               0         \n",
            "_________________________________________________________________\n",
            "dense_14 (Dense)             (None, 512)               401920    \n",
            "_________________________________________________________________\n",
            "activation_11 (Activation)   (None, 512)               0         \n",
            "_________________________________________________________________\n",
            "dense_15 (Dense)             (None, 512)               262656    \n",
            "_________________________________________________________________\n",
            "activation_12 (Activation)   (None, 512)               0         \n",
            "_________________________________________________________________\n",
            "dense_16 (Dense)             (None, 512)               262656    \n",
            "_________________________________________________________________\n",
            "activation_13 (Activation)   (None, 512)               0         \n",
            "_________________________________________________________________\n",
            "dense_17 (Dense)             (None, 256)               131328    \n",
            "_________________________________________________________________\n",
            "activation_14 (Activation)   (None, 256)               0         \n",
            "_________________________________________________________________\n",
            "dense_18 (Dense)             (None, 10)                2570      \n",
            "=================================================================\n",
            "Total params: 1,061,130\n",
            "Trainable params: 1,061,130\n",
            "Non-trainable params: 0\n",
            "_________________________________________________________________\n"
          ],
          "name": "stdout"
        }
      ]
    },
    {
      "metadata": {
        "id": "0BOuubKSwyGI",
        "colab_type": "text"
      },
      "cell_type": "markdown",
      "source": [
        "### Model interface\n",
        "\n",
        "Keras models follow __Scikit-learn__'s interface of fit/predict with some notable extensions. Let's take a tour."
      ]
    },
    {
      "metadata": {
        "id": "-V0yD1KwwyGI",
        "colab_type": "code",
        "colab": {
          "base_uri": "https://localhost:8080/",
          "height": 235
        },
        "outputId": "79309521-5711-4b74-8401-5510dc12c188"
      },
      "cell_type": "code",
      "source": [
        "# fit(X,y) ships with a neat automatic logging.\n",
        "#          Highly customizable under the hood.\n",
        "model.fit(X_train, y_train, batch_size = 1000,\n",
        "          validation_data=(X_val, y_val), epochs=5,);"
      ],
      "execution_count": 34,
      "outputs": [
        {
          "output_type": "stream",
          "text": [
            "Train on 50000 samples, validate on 10000 samples\n",
            "Epoch 1/5\n",
            "50000/50000 [==============================] - 1s 18us/step - loss: 0.0538 - acc: 0.9835 - val_loss: 0.0827 - val_acc: 0.9783\n",
            "Epoch 2/5\n",
            "50000/50000 [==============================] - 1s 17us/step - loss: 0.0274 - acc: 0.9917 - val_loss: 0.0786 - val_acc: 0.9790\n",
            "Epoch 3/5\n",
            "50000/50000 [==============================] - 1s 18us/step - loss: 0.0223 - acc: 0.9933 - val_loss: 0.0768 - val_acc: 0.9801\n",
            "Epoch 4/5\n",
            "50000/50000 [==============================] - 1s 19us/step - loss: 0.0194 - acc: 0.9944 - val_loss: 0.0766 - val_acc: 0.9805\n",
            "Epoch 5/5\n",
            "50000/50000 [==============================] - 1s 19us/step - loss: 0.0171 - acc: 0.9950 - val_loss: 0.0767 - val_acc: 0.9810\n"
          ],
          "name": "stdout"
        }
      ]
    },
    {
      "metadata": {
        "id": "xCeoku3zwyGM",
        "colab_type": "code",
        "colab": {
          "base_uri": "https://localhost:8080/",
          "height": 125
        },
        "outputId": "feff7dcb-980e-4d5c-a008-98faf3573907"
      },
      "cell_type": "code",
      "source": [
        "# estimate probabilities P(y|x)\n",
        "model.predict_proba(X_val[:2])"
      ],
      "execution_count": 35,
      "outputs": [
        {
          "output_type": "execute_result",
          "data": {
            "text/plain": [
              "array([[1.4691302e-18, 1.3489480e-07, 6.1770091e-09, 9.9999797e-01,\n",
              "        3.5226561e-13, 1.8593865e-06, 2.6884500e-17, 1.1047799e-10,\n",
              "        4.9105124e-09, 1.4774040e-09],\n",
              "       [1.3467063e-07, 3.5711929e-07, 6.4242386e-07, 4.3346903e-05,\n",
              "        5.9115721e-09, 1.6294333e-06, 2.4676118e-07, 4.6253714e-08,\n",
              "        9.9995220e-01, 1.4354227e-06]], dtype=float32)"
            ]
          },
          "metadata": {
            "tags": []
          },
          "execution_count": 35
        }
      ]
    },
    {
      "metadata": {
        "id": "O9gouX02wyGP",
        "colab_type": "code",
        "colab": {}
      },
      "cell_type": "code",
      "source": [
        "# Save trained weights\n",
        "model.save(\"weights.h5\")"
      ],
      "execution_count": 0,
      "outputs": []
    },
    {
      "metadata": {
        "id": "rCIn6S-0wyGS",
        "colab_type": "code",
        "colab": {
          "base_uri": "https://localhost:8080/",
          "height": 71
        },
        "outputId": "4e7761bb-5660-48b8-8083-c47940e2ae0c"
      },
      "cell_type": "code",
      "source": [
        "print(\"\\nLoss, Accuracy = \", model.evaluate(X_test, y_test))"
      ],
      "execution_count": 37,
      "outputs": [
        {
          "output_type": "stream",
          "text": [
            "10000/10000 [==============================] - 1s 68us/step\n",
            "\n",
            "Loss, Accuracy =  [0.061413874730159294, 0.9823]\n"
          ],
          "name": "stdout"
        }
      ]
    },
    {
      "metadata": {
        "id": "Ohfbaj-WwyGU",
        "colab_type": "text"
      },
      "cell_type": "markdown",
      "source": [
        "### Whoops!\n",
        "So far our model is staggeringly inefficient. There is something wring with it. Guess, what?"
      ]
    },
    {
      "metadata": {
        "id": "asYUUuJnwyGU",
        "colab_type": "code",
        "colab": {
          "base_uri": "https://localhost:8080/",
          "height": 71
        },
        "outputId": "6f547762-b83c-4286-e8c9-71a621dc10cd"
      },
      "cell_type": "code",
      "source": [
        "# Test score...\n",
        "test_predictions = model.predict_proba(X_test).argmax(axis=-1)\n",
        "test_answers = y_test.argmax(axis=-1)\n",
        "\n",
        "test_accuracy = np.mean(test_predictions==test_answers)\n",
        "\n",
        "print(\"\\nTest accuracy: {} %\".format(test_accuracy*100))\n",
        "\n",
        "assert test_accuracy>=0.92,\"Logistic regression can do better!\"\n",
        "assert test_accuracy>=0.975,\"Your network can do better!\"\n",
        "print(\"Great job!\")"
      ],
      "execution_count": 38,
      "outputs": [
        {
          "output_type": "stream",
          "text": [
            "\n",
            "Test accuracy: 98.22999999999999 %\n",
            "Great job!\n"
          ],
          "name": "stdout"
        }
      ]
    },
    {
      "metadata": {
        "id": "PUyQhCsmwyGX",
        "colab_type": "code",
        "colab": {}
      },
      "cell_type": "code",
      "source": [
        "answer_submitter = grading.Grader(\"0ybD9ZxxEeea8A6GzH-6CA\")\n",
        "answer_submitter.set_answer(\"N56DR\", test_accuracy)"
      ],
      "execution_count": 0,
      "outputs": []
    },
    {
      "metadata": {
        "id": "MYzEHviswyGa",
        "colab_type": "code",
        "colab": {
          "base_uri": "https://localhost:8080/",
          "height": 35
        },
        "outputId": "bee32d84-65d8-49f5-95e0-1275ec103f8d"
      },
      "cell_type": "code",
      "source": [
        "answer_submitter.submit(\"\", \"\")"
      ],
      "execution_count": 17,
      "outputs": [
        {
          "output_type": "stream",
          "text": [
            "Submitted to Coursera platform. See results on assignment page!\n"
          ],
          "name": "stdout"
        }
      ]
    },
    {
      "metadata": {
        "id": "752IxsYfwyGc",
        "colab_type": "text"
      },
      "cell_type": "markdown",
      "source": [
        "## Keras + tensorboard\n",
        "\n",
        "Remember the interactive graphs from Tensorboard one notebook ago? \n",
        "\n",
        "Thing is, Keras can use tensorboard to show you a lot of useful information about the learning progress. Just take a look!"
      ]
    },
    {
      "metadata": {
        "id": "9GUcd9z8wyGd",
        "colab_type": "code",
        "colab": {}
      },
      "cell_type": "code",
      "source": [
        "! rm -r /tmp/tboard/**"
      ],
      "execution_count": 0,
      "outputs": []
    },
    {
      "metadata": {
        "id": "MOeqjNqtwyGf",
        "colab_type": "code",
        "colab": {}
      },
      "cell_type": "code",
      "source": [
        "from keras.callbacks import TensorBoard\n",
        "model.fit(X_train, y_train, validation_data=(X_val, y_val), \n",
        "          epochs=10,\n",
        "          callbacks=[TensorBoard(\"/tmp/tboard\")])"
      ],
      "execution_count": 0,
      "outputs": []
    },
    {
      "metadata": {
        "id": "_JQjE-ShwyGg",
        "colab_type": "text"
      },
      "cell_type": "markdown",
      "source": [
        "# Tips & tricks\n",
        "\n",
        "Here are some tips on what you could do. Don't worry, to reach the passing threshold you don't need to try all the ideas listed here, feel free to stop once you reach the 0.975 accuracy mark.\n",
        "\n",
        " * __Network size__\n",
        "   * More neurons, \n",
        "   * More layers, ([docs](https://keras.io/))\n",
        "\n",
        "   * Nonlinearities in the hidden layers\n",
        "     * tanh, relu, leaky relu, etc\n",
        "   * Larger networks may take more epochs to train, so don't discard your net just because it could didn't beat the baseline in 5 epochs.\n",
        "\n",
        "\n",
        " * __Early Stopping__\n",
        "   * Training for 100 epochs regardless of anything is probably a bad idea.\n",
        "   * Some networks converge over 5 epochs, others - over 500.\n",
        "   * Way to go: stop when validation score is 10 iterations past maximum\n",
        "     \n",
        "\n",
        " * __Faster optimization__\n",
        "   * rmsprop, nesterov_momentum, adam, adagrad and so on.\n",
        "     * Converge faster and sometimes reach better optima\n",
        "     * It might make sense to tweak learning rate/momentum, other learning parameters, batch size and number of epochs\n",
        "\n",
        "\n",
        " * __Regularize__ to prevent overfitting\n",
        "   * Add some L2 weight norm to the loss function, theano will do the rest\n",
        "     * Can be done manually or via - https://keras.io/regularizers/\n",
        "   \n",
        "   \n",
        " * __Data augmemntation__ - getting 5x as large dataset for free is a great deal\n",
        "   * https://keras.io/preprocessing/image/\n",
        "   * Zoom-in+slice = move\n",
        "   * Rotate+zoom(to remove black stripes)\n",
        "   * any other perturbations\n",
        "   * Simple way to do that (if you have PIL/Image): \n",
        "     * ```from scipy.misc import imrotate,imresize```\n",
        "     * and a few slicing\n",
        "   * Stay realistic. There's usually no point in flipping dogs upside down as that is not the way you usually see them."
      ]
    }
  ]
}