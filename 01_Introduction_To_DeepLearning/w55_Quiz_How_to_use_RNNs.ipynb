{
  "nbformat": 4,
  "nbformat_minor": 0,
  "metadata": {
    "colab": {
      "name": "w55_Quiz_How_to_use_RNNs.ipynb",
      "version": "0.3.2",
      "provenance": [],
      "collapsed_sections": [],
      "include_colab_link": true
    },
    "kernelspec": {
      "name": "python3",
      "display_name": "Python 3"
    }
  },
  "cells": [
    {
      "cell_type": "markdown",
      "metadata": {
        "id": "view-in-github",
        "colab_type": "text"
      },
      "source": [
        "[View in Colaboratory](https://colab.research.google.com/github/RayleighKim/Coursera_Advanced_Machine_Learning_Specialization/blob/master/01_Introduction_To_DeepLearning/w55_Quiz_How_to_use_RNNs.ipynb)"
      ]
    },
    {
      "metadata": {
        "id": "M5urgouueCxS",
        "colab_type": "text"
      },
      "cell_type": "markdown",
      "source": [
        "# Quiz : How to use RNNs\n",
        "---\n",
        "Rayleigh Kim @ dplus\n",
        "\n",
        "email1 : rayleigh@dplus.company<br>\n",
        "email2 : wood.rayleigh@gmail.com\n",
        "\n",
        "\n",
        "\n"
      ]
    },
    {
      "metadata": {
        "id": "GdSYY0wXfDYc",
        "colab_type": "text"
      },
      "cell_type": "markdown",
      "source": [
        "## Q1. Consider RNNs for five different types of tasks :\n",
        "\n",
        "1. Element-wise sequence classification\n",
        "2. Unconditional seuquence generation\n",
        "3. Sequence classification\n",
        "4. Conditional sequence generation\n",
        "5. Sequence translation\n",
        "\n",
        "![image from coursera](https://d3c33hcgiwev3.cloudfront.net/imageAssetProxy.v1/j6SSNp5XEee8kwqP-vsHDg_173b2f330915b24cf0a108a955db0b34_Screen-Shot-2017-09-21-at-01.52.59.png?expiry=1533427200000&hmac=bTRis_TUup8I6SGxKsKHOX7LyIgaOt5k8SRCbuoC-q8)\n",
        "\n",
        "Which of these RNNs is the most suitable one to solve the task of music generation from scratch?\n",
        "\n",
        "Answer : 2. "
      ]
    },
    {
      "metadata": {
        "id": "NNzc6I1mg2eg",
        "colab_type": "text"
      },
      "cell_type": "markdown",
      "source": [
        "## Q2. Consider 5 different RNNs from the previous Question. Which of these RNNs is the most suitable one to solve the task of music generation from notes?\n",
        "\n",
        "answer : 5. Sequence translation which is a translation from notes to audio"
      ]
    },
    {
      "metadata": {
        "id": "mldNyHxdfisT",
        "colab_type": "text"
      },
      "cell_type": "markdown",
      "source": [
        "## Q3. Consider 5 different RNNs from the first Question. We want to generate music from scratch and additionally, each generated sample should be from a specific instrument. Which of these RNNs is the most suitable one to solve this task?\n",
        "\n",
        "answer : 4.  Conditional sequence generation"
      ]
    },
    {
      "metadata": {
        "id": "CsW6lqlcffbJ",
        "colab_type": "text"
      },
      "cell_type": "markdown",
      "source": [
        "## Q4. Choose correct statements about image captioning architecture from the lecture:\n",
        "\n",
        "\n",
        "\n",
        "![image from coursera](https://d3c33hcgiwev3.cloudfront.net/imageAssetProxy.v1/3Z1XfJ5eEeeENhLqXb0-qg_b639a15a09ee8782ebc4c835fa3cbf88_Screen-Shot-2017-09-21-at-02.47.44.png?expiry=1533427200000&hmac=kPgTTOrIVJJNHGuo4EzUp34R0S-ftNkY22Tq3k23RN4)\n",
        "\n",
        "* Any CNN may be used to represent an image with a feature vector. **True**\n",
        "* There is no benefit in pre-training of any part of this model. **False**\n",
        "* This is a sequence to sequence architecture (sequence translation (5) from the first question). **False**\n",
        "* It is Possible to train this model end-to-end without pretraining. **True**"
      ]
    },
    {
      "metadata": {
        "id": "KlU7djgsymxj",
        "colab_type": "text"
      },
      "cell_type": "markdown",
      "source": [
        "## Q5. Suppose Nick has a trained sequence to sequence machine translation model. He wants to generate the translation for a new sentence in the way that this translation has the highest probability in the model. To do this at each time step of the decoder he chooses the most probable next word instead of the generating from the distribution. Does this scheme guaranty that the resulting output sentence is the most probable one?\n",
        "\n",
        "* Yes\n",
        "* **NO, That's why beam search is usually used to generate more probable sequences.**"
      ]
    },
    {
      "metadata": {
        "id": "InYiFZK81SBi",
        "colab_type": "code",
        "colab": {}
      },
      "cell_type": "code",
      "source": [
        ""
      ],
      "execution_count": 0,
      "outputs": []
    }
  ]
}